{
 "cells": [
  {
   "cell_type": "markdown",
   "metadata": {},
   "source": [
    "# Úkol č. 2 - předzpracování dat a binární klasifikace (do 9. listopadu 23:59)\n",
    "\n",
    "  * V rámci tohoto úkolu se musíte vypořádat s příznaky, které jsou různých typů.\n",
    "  * Před tím, než na nich postavíte predikční model, je třeba je nějakým způsobem převést do číselné reprezentace.\n",
    "    \n",
    "> **Úkoly jsou zadány tak, aby Vám daly prostor pro invenci. Vymyslet _jak přesně_ budete úkol řešit, je důležitou součástí zadání a originalita či nápaditost bude také hodnocena!**\n",
    "\n",
    "## Zdroj dat\n",
    "\n",
    "Budeme se zabývat predikcí přežití pasažérů Titaniku.\n",
    "K dispozici máte trénovací data v souboru **data.csv** a data na vyhodnocení v souboru **evaluation.csv**.\n",
    "\n",
    "#### Seznam příznaků:\n",
    "* survived - zda přežil, 0 = Ne, 1 = Ano, **vysvětlovaná proměnná**, kterou chcete predikovat\n",
    "* pclass - Třída lodního lístku, 1 = první, 2 = druhá, 3 = třetí\n",
    "* name - jméno\n",
    "* sex - pohlaví\n",
    "* age - věk v letech\n",
    "* sibsp\t- počet sourozenců / manželů, manželek na palubě\n",
    "* parch - počet rodičů / dětí na palubě\n",
    "* ticket - číslo lodního lístku\n",
    "* fare - cena lodního lístku\n",
    "* cabin\t- číslo kajuty\n",
    "* embarked\t- místo nalodění, C = Cherbourg, Q = Queenstown, S = Southampton\n",
    "* home.dest - Bydliště/Cíl\n",
    "\n",
    "## Pokyny k vypracování\n",
    "\n",
    "**Základní body zadání**, za jejichž (poctivé) vypracování získáte **8 bodů**:\n",
    "  * V Jupyter notebooku načtěte data ze souboru **data.csv**. Vhodným způsobem si je rozdělte na podmnožiny vhodné k trénování modelu.\n",
    "  * Projděte si jednotlivé příznaky a transformujte je do vhodné podoby pro použití ve vybraném klasifikačním modelu.\n",
    "  * Podle potřeby si můžete vytvářet nové příznaky (na základě existujících), například tedy můžete vytvořit příznak měřící délku jména. Některé příznaky můžete také úplně zahodit.\n",
    "  * Nějakým způsobem se vypořádejte s chybějícími hodnotami.\n",
    "  * Následně si vyberte vhodný klasifikační model z přednášek. Najděte vhodné hyperparametry a určete jeho přesnost (accuracy) na trénovací množině. Také určete jeho přesnost na testovací množině.\n",
    "  * Načtěte vyhodnocovací data ze souboru **evaluation.csv**. Napočítejte predikce pro tyto data (vysvětlovaná proměnná v nich již není). Vytvořte **results.csv** soubor, ve kterém tyto predikce uložíte do dvou sloupců: ID, predikce přežití. Tento soubor nahrajte do repozitáře.\n",
    "  * Ukázka prvních řádků souboru *results.csv*:\n",
    "  \n",
    "```\n",
    "ID,survived\n",
    "1000,0\n",
    "1001,1\n",
    "...\n",
    "```\n",
    "\n",
    "**Další body zadání** za případné další body  (můžete si vybrat, maximum bodů za úkol je každopádně 12 bodů):\n",
    "  * (až +4 body) Aplikujte všechny klasifikační modely z přednášek a určete (na základě přesnosti na validační množině), který je nejlepší. Přesnost tohoto nejlepšího modelu odhadněte pomocí křížové validace. K predikcím na vyhodnocovacích datech využijte tento model.\n",
    "  * (až +4 body) Zkuste použít nějaké (alespoň dvě) netriviální metody doplňování chybějících hodnot u věku. Zaměřte na vliv těchto metod na přesnost predikce výsledného modelu. K predikcím na vyhodnocovacích datech využijte ten přístup, který Vám vyjde jako nejlepší.\n",
    "\n",
    "## Poznámky k odevzdání\n",
    "\n",
    "  * Řiďte se pokyny ze stránky https://courses.fit.cvut.cz/BI-VZD/homeworks/index.html.\n",
    "  * Odevzdejte nejen Jupyter Notebook, ale i _csv_ soubor s predikcemi pro vyhodnocovací data (`results.csv`).\n",
    "  * Opravující Vám může umožnit úkol dodělat či opravit a získat tak další body. První verze je ale důležitá a bude-li odbytá, budete za to penalizováni**"
   ]
  },
  {
   "cell_type": "code",
   "execution_count": 407,
   "metadata": {},
   "outputs": [],
   "source": [
    "import math\n",
    "import pandas as pd\n",
    "import numpy as np\n",
    "from sklearn.tree import DecisionTreeClassifier\n",
    "from sklearn.model_selection import train_test_split\n",
    "import matplotlib.pyplot as plt\n",
    "import seaborn as sns\n",
    "from sklearn.model_selection import cross_val_score"
   ]
  },
  {
   "cell_type": "markdown",
   "metadata": {},
   "source": [
    "### Zpracovani dat\n",
    "Odstranila jsem sloubce cabin, home.dest, ticket, ID aby oni nemeli vliv na sravnost prace modelu "
   ]
  },
  {
   "cell_type": "code",
   "execution_count": 408,
   "metadata": {},
   "outputs": [
    {
     "data": {
      "text/html": [
       "<div>\n",
       "<style scoped>\n",
       "    .dataframe tbody tr th:only-of-type {\n",
       "        vertical-align: middle;\n",
       "    }\n",
       "\n",
       "    .dataframe tbody tr th {\n",
       "        vertical-align: top;\n",
       "    }\n",
       "\n",
       "    .dataframe thead th {\n",
       "        text-align: right;\n",
       "    }\n",
       "</style>\n",
       "<table border=\"1\" class=\"dataframe\">\n",
       "  <thead>\n",
       "    <tr style=\"text-align: right;\">\n",
       "      <th></th>\n",
       "      <th>survived</th>\n",
       "      <th>pclass</th>\n",
       "      <th>name</th>\n",
       "      <th>sex</th>\n",
       "      <th>age</th>\n",
       "      <th>sibsp</th>\n",
       "      <th>parch</th>\n",
       "      <th>fare</th>\n",
       "      <th>embarked</th>\n",
       "    </tr>\n",
       "    <tr>\n",
       "      <th>ID</th>\n",
       "      <th></th>\n",
       "      <th></th>\n",
       "      <th></th>\n",
       "      <th></th>\n",
       "      <th></th>\n",
       "      <th></th>\n",
       "      <th></th>\n",
       "      <th></th>\n",
       "      <th></th>\n",
       "    </tr>\n",
       "  </thead>\n",
       "  <tbody>\n",
       "    <tr>\n",
       "      <th>0</th>\n",
       "      <td>1</td>\n",
       "      <td>3</td>\n",
       "      <td>Dorking, Mr. Edward Arthur</td>\n",
       "      <td>male</td>\n",
       "      <td>19.0</td>\n",
       "      <td>0</td>\n",
       "      <td>0</td>\n",
       "      <td>8.0500</td>\n",
       "      <td>S</td>\n",
       "    </tr>\n",
       "    <tr>\n",
       "      <th>1</th>\n",
       "      <td>1</td>\n",
       "      <td>2</td>\n",
       "      <td>Smith, Miss. Marion Elsie</td>\n",
       "      <td>female</td>\n",
       "      <td>40.0</td>\n",
       "      <td>0</td>\n",
       "      <td>0</td>\n",
       "      <td>13.0000</td>\n",
       "      <td>S</td>\n",
       "    </tr>\n",
       "    <tr>\n",
       "      <th>2</th>\n",
       "      <td>0</td>\n",
       "      <td>3</td>\n",
       "      <td>Hegarty, Miss. Hanora \"Nora\"</td>\n",
       "      <td>female</td>\n",
       "      <td>18.0</td>\n",
       "      <td>0</td>\n",
       "      <td>0</td>\n",
       "      <td>6.7500</td>\n",
       "      <td>Q</td>\n",
       "    </tr>\n",
       "    <tr>\n",
       "      <th>3</th>\n",
       "      <td>0</td>\n",
       "      <td>3</td>\n",
       "      <td>Sage, Mr. John George</td>\n",
       "      <td>male</td>\n",
       "      <td>NaN</td>\n",
       "      <td>1</td>\n",
       "      <td>9</td>\n",
       "      <td>69.5500</td>\n",
       "      <td>S</td>\n",
       "    </tr>\n",
       "    <tr>\n",
       "      <th>4</th>\n",
       "      <td>0</td>\n",
       "      <td>3</td>\n",
       "      <td>Cacic, Miss. Marija</td>\n",
       "      <td>female</td>\n",
       "      <td>30.0</td>\n",
       "      <td>0</td>\n",
       "      <td>0</td>\n",
       "      <td>8.6625</td>\n",
       "      <td>S</td>\n",
       "    </tr>\n",
       "    <tr>\n",
       "      <th>...</th>\n",
       "      <td>...</td>\n",
       "      <td>...</td>\n",
       "      <td>...</td>\n",
       "      <td>...</td>\n",
       "      <td>...</td>\n",
       "      <td>...</td>\n",
       "      <td>...</td>\n",
       "      <td>...</td>\n",
       "      <td>...</td>\n",
       "    </tr>\n",
       "    <tr>\n",
       "      <th>995</th>\n",
       "      <td>0</td>\n",
       "      <td>3</td>\n",
       "      <td>Sdycoff, Mr. Todor</td>\n",
       "      <td>male</td>\n",
       "      <td>NaN</td>\n",
       "      <td>0</td>\n",
       "      <td>0</td>\n",
       "      <td>7.8958</td>\n",
       "      <td>S</td>\n",
       "    </tr>\n",
       "    <tr>\n",
       "      <th>996</th>\n",
       "      <td>1</td>\n",
       "      <td>3</td>\n",
       "      <td>Finoli, Mr. Luigi</td>\n",
       "      <td>male</td>\n",
       "      <td>NaN</td>\n",
       "      <td>0</td>\n",
       "      <td>0</td>\n",
       "      <td>7.0500</td>\n",
       "      <td>S</td>\n",
       "    </tr>\n",
       "    <tr>\n",
       "      <th>997</th>\n",
       "      <td>0</td>\n",
       "      <td>3</td>\n",
       "      <td>Danbom, Mrs. Ernst Gilbert (Anna Sigrid Maria ...</td>\n",
       "      <td>female</td>\n",
       "      <td>28.0</td>\n",
       "      <td>1</td>\n",
       "      <td>1</td>\n",
       "      <td>14.4000</td>\n",
       "      <td>S</td>\n",
       "    </tr>\n",
       "    <tr>\n",
       "      <th>998</th>\n",
       "      <td>0</td>\n",
       "      <td>3</td>\n",
       "      <td>Sivic, Mr. Husein</td>\n",
       "      <td>male</td>\n",
       "      <td>40.0</td>\n",
       "      <td>0</td>\n",
       "      <td>0</td>\n",
       "      <td>7.8958</td>\n",
       "      <td>S</td>\n",
       "    </tr>\n",
       "    <tr>\n",
       "      <th>999</th>\n",
       "      <td>0</td>\n",
       "      <td>3</td>\n",
       "      <td>Jonsson, Mr. Nils Hilding</td>\n",
       "      <td>male</td>\n",
       "      <td>27.0</td>\n",
       "      <td>0</td>\n",
       "      <td>0</td>\n",
       "      <td>7.8542</td>\n",
       "      <td>S</td>\n",
       "    </tr>\n",
       "  </tbody>\n",
       "</table>\n",
       "<p>1000 rows × 9 columns</p>\n",
       "</div>"
      ],
      "text/plain": [
       "     survived  pclass                                               name  \\\n",
       "ID                                                                         \n",
       "0           1       3                         Dorking, Mr. Edward Arthur   \n",
       "1           1       2                          Smith, Miss. Marion Elsie   \n",
       "2           0       3                       Hegarty, Miss. Hanora \"Nora\"   \n",
       "3           0       3                              Sage, Mr. John George   \n",
       "4           0       3                                Cacic, Miss. Marija   \n",
       "..        ...     ...                                                ...   \n",
       "995         0       3                                 Sdycoff, Mr. Todor   \n",
       "996         1       3                                  Finoli, Mr. Luigi   \n",
       "997         0       3  Danbom, Mrs. Ernst Gilbert (Anna Sigrid Maria ...   \n",
       "998         0       3                                  Sivic, Mr. Husein   \n",
       "999         0       3                          Jonsson, Mr. Nils Hilding   \n",
       "\n",
       "        sex   age  sibsp  parch     fare embarked  \n",
       "ID                                                 \n",
       "0      male  19.0      0      0   8.0500        S  \n",
       "1    female  40.0      0      0  13.0000        S  \n",
       "2    female  18.0      0      0   6.7500        Q  \n",
       "3      male   NaN      1      9  69.5500        S  \n",
       "4    female  30.0      0      0   8.6625        S  \n",
       "..      ...   ...    ...    ...      ...      ...  \n",
       "995    male   NaN      0      0   7.8958        S  \n",
       "996    male   NaN      0      0   7.0500        S  \n",
       "997  female  28.0      1      1  14.4000        S  \n",
       "998    male  40.0      0      0   7.8958        S  \n",
       "999    male  27.0      0      0   7.8542        S  \n",
       "\n",
       "[1000 rows x 9 columns]"
      ]
     },
     "execution_count": 408,
     "metadata": {},
     "output_type": "execute_result"
    }
   ],
   "source": [
    "models_name = []\n",
    "model_cross_val = []\n",
    "models_test = []\n",
    "data = pd.read_csv('data.csv')\n",
    "data.index = data.ID\n",
    "data = data.drop(columns = \"cabin\")\n",
    "data = data.drop(columns = \"home.dest\")\n",
    "data = data.drop(columns = \"ID\")\n",
    "data = data.drop(columns = \"ticket\")\n",
    "data"
   ]
  },
  {
   "cell_type": "markdown",
   "metadata": {},
   "source": [
    "### Rozdelim data na trenovaci a testovaci"
   ]
  },
  {
   "cell_type": "code",
   "execution_count": 409,
   "metadata": {},
   "outputs": [],
   "source": [
    "dt = DecisionTreeClassifier()\n",
    "dt.get_params\n",
    "\n",
    "Xdata = data.drop(columns='survived')\n",
    "ydata = data.survived\n"
   ]
  },
  {
   "cell_type": "code",
   "execution_count": 410,
   "metadata": {},
   "outputs": [],
   "source": [
    "\n",
    "rd_seed = 333 \n",
    "\n",
    "Xtrain, Xtest, ytrain, ytest = train_test_split(Xdata, ydata, test_size=0.25, random_state=rd_seed) \n",
    "Xtrain, Xval, ytrain, yval = train_test_split(Xtrain, ytrain, test_size=0.25, random_state=rd_seed) \n"
   ]
  },
  {
   "cell_type": "markdown",
   "metadata": {},
   "source": [
    "### Doplneni hodnot\n",
    "Pomoci mean trenovacich dat vyplnim NaN hodnoty v trenovaci, validacni a testovaci mnozine"
   ]
  },
  {
   "cell_type": "code",
   "execution_count": 411,
   "metadata": {},
   "outputs": [
    {
     "name": "stderr",
     "output_type": "stream",
     "text": [
      "<ipython-input-411-292ad4d13e95>:4: SettingWithCopyWarning: \n",
      "A value is trying to be set on a copy of a slice from a DataFrame.\n",
      "Try using .loc[row_indexer,col_indexer] = value instead\n",
      "\n",
      "See the caveats in the documentation: https://pandas.pydata.org/pandas-docs/stable/user_guide/indexing.html#returning-a-view-versus-a-copy\n",
      "  Xtest['age'] = Xtest['age'].fillna(mean)\n"
     ]
    }
   ],
   "source": [
    "mean = (Xtrain['age'].mean())\n",
    "Xtrain['age'] = Xtrain['age'].fillna(mean)\n",
    "Xval['age'] = Xval['age'].fillna(mean)\n",
    "Xtest['age'] = Xtest['age'].fillna(mean)\n"
   ]
  },
  {
   "cell_type": "code",
   "execution_count": 412,
   "metadata": {},
   "outputs": [
    {
     "name": "stderr",
     "output_type": "stream",
     "text": [
      "/home/viktoriia/anaconda3/envs/vzd/lib/python3.8/site-packages/pandas/core/frame.py:3065: SettingWithCopyWarning: \n",
      "A value is trying to be set on a copy of a slice from a DataFrame.\n",
      "Try using .loc[row_indexer,col_indexer] = value instead\n",
      "\n",
      "See the caveats in the documentation: https://pandas.pydata.org/pandas-docs/stable/user_guide/indexing.html#returning-a-view-versus-a-copy\n",
      "  self[k1] = value[k2]\n"
     ]
    }
   ],
   "source": [
    "Xtrain_string_cols = Xtrain.select_dtypes(['object']).columns\n",
    "Xtrain[Xtrain_string_cols] = Xtrain[Xtrain_string_cols].astype('category').apply(lambda x:x.cat.codes)\n",
    "Xval_string_cols = Xval.select_dtypes(['object']).columns\n",
    "Xval[Xval_string_cols] = Xval[Xval_string_cols].astype('category').apply(lambda x:x.cat.codes)\n",
    "Xtest_string_cols = Xtest.select_dtypes(['object']).columns\n",
    "Xtest[Xtest_string_cols] = Xtest[Xtest_string_cols].astype('category').apply(lambda x:x.cat.codes)"
   ]
  },
  {
   "cell_type": "code",
   "execution_count": 413,
   "metadata": {},
   "outputs": [
    {
     "data": {
      "text/html": [
       "<div>\n",
       "<style scoped>\n",
       "    .dataframe tbody tr th:only-of-type {\n",
       "        vertical-align: middle;\n",
       "    }\n",
       "\n",
       "    .dataframe tbody tr th {\n",
       "        vertical-align: top;\n",
       "    }\n",
       "\n",
       "    .dataframe thead th {\n",
       "        text-align: right;\n",
       "    }\n",
       "</style>\n",
       "<table border=\"1\" class=\"dataframe\">\n",
       "  <thead>\n",
       "    <tr style=\"text-align: right;\">\n",
       "      <th></th>\n",
       "      <th>pclass</th>\n",
       "      <th>name</th>\n",
       "      <th>sex</th>\n",
       "      <th>age</th>\n",
       "      <th>sibsp</th>\n",
       "      <th>parch</th>\n",
       "      <th>fare</th>\n",
       "      <th>embarked</th>\n",
       "    </tr>\n",
       "    <tr>\n",
       "      <th>ID</th>\n",
       "      <th></th>\n",
       "      <th></th>\n",
       "      <th></th>\n",
       "      <th></th>\n",
       "      <th></th>\n",
       "      <th></th>\n",
       "      <th></th>\n",
       "      <th></th>\n",
       "    </tr>\n",
       "  </thead>\n",
       "  <tbody>\n",
       "    <tr>\n",
       "      <th>981</th>\n",
       "      <td>3</td>\n",
       "      <td>148</td>\n",
       "      <td>1</td>\n",
       "      <td>29.391941</td>\n",
       "      <td>0</td>\n",
       "      <td>0</td>\n",
       "      <td>7.2292</td>\n",
       "      <td>0</td>\n",
       "    </tr>\n",
       "    <tr>\n",
       "      <th>755</th>\n",
       "      <td>2</td>\n",
       "      <td>14</td>\n",
       "      <td>1</td>\n",
       "      <td>28.000000</td>\n",
       "      <td>0</td>\n",
       "      <td>0</td>\n",
       "      <td>26.0000</td>\n",
       "      <td>2</td>\n",
       "    </tr>\n",
       "    <tr>\n",
       "      <th>730</th>\n",
       "      <td>3</td>\n",
       "      <td>135</td>\n",
       "      <td>1</td>\n",
       "      <td>34.500000</td>\n",
       "      <td>0</td>\n",
       "      <td>0</td>\n",
       "      <td>6.4375</td>\n",
       "      <td>0</td>\n",
       "    </tr>\n",
       "    <tr>\n",
       "      <th>278</th>\n",
       "      <td>3</td>\n",
       "      <td>221</td>\n",
       "      <td>0</td>\n",
       "      <td>22.000000</td>\n",
       "      <td>0</td>\n",
       "      <td>0</td>\n",
       "      <td>9.8375</td>\n",
       "      <td>2</td>\n",
       "    </tr>\n",
       "    <tr>\n",
       "      <th>600</th>\n",
       "      <td>3</td>\n",
       "      <td>122</td>\n",
       "      <td>0</td>\n",
       "      <td>29.391941</td>\n",
       "      <td>1</td>\n",
       "      <td>0</td>\n",
       "      <td>14.4542</td>\n",
       "      <td>0</td>\n",
       "    </tr>\n",
       "    <tr>\n",
       "      <th>...</th>\n",
       "      <td>...</td>\n",
       "      <td>...</td>\n",
       "      <td>...</td>\n",
       "      <td>...</td>\n",
       "      <td>...</td>\n",
       "      <td>...</td>\n",
       "      <td>...</td>\n",
       "      <td>...</td>\n",
       "    </tr>\n",
       "    <tr>\n",
       "      <th>491</th>\n",
       "      <td>3</td>\n",
       "      <td>144</td>\n",
       "      <td>1</td>\n",
       "      <td>32.000000</td>\n",
       "      <td>0</td>\n",
       "      <td>0</td>\n",
       "      <td>7.5792</td>\n",
       "      <td>2</td>\n",
       "    </tr>\n",
       "    <tr>\n",
       "      <th>125</th>\n",
       "      <td>3</td>\n",
       "      <td>179</td>\n",
       "      <td>1</td>\n",
       "      <td>16.000000</td>\n",
       "      <td>0</td>\n",
       "      <td>0</td>\n",
       "      <td>9.2167</td>\n",
       "      <td>2</td>\n",
       "    </tr>\n",
       "    <tr>\n",
       "      <th>7</th>\n",
       "      <td>1</td>\n",
       "      <td>225</td>\n",
       "      <td>0</td>\n",
       "      <td>29.391941</td>\n",
       "      <td>1</td>\n",
       "      <td>0</td>\n",
       "      <td>52.0000</td>\n",
       "      <td>2</td>\n",
       "    </tr>\n",
       "    <tr>\n",
       "      <th>562</th>\n",
       "      <td>3</td>\n",
       "      <td>117</td>\n",
       "      <td>1</td>\n",
       "      <td>29.391941</td>\n",
       "      <td>1</td>\n",
       "      <td>2</td>\n",
       "      <td>23.4500</td>\n",
       "      <td>2</td>\n",
       "    </tr>\n",
       "    <tr>\n",
       "      <th>490</th>\n",
       "      <td>3</td>\n",
       "      <td>166</td>\n",
       "      <td>0</td>\n",
       "      <td>29.391941</td>\n",
       "      <td>0</td>\n",
       "      <td>0</td>\n",
       "      <td>7.2292</td>\n",
       "      <td>0</td>\n",
       "    </tr>\n",
       "  </tbody>\n",
       "</table>\n",
       "<p>250 rows × 8 columns</p>\n",
       "</div>"
      ],
      "text/plain": [
       "     pclass  name  sex        age  sibsp  parch     fare  embarked\n",
       "ID                                                                \n",
       "981       3   148    1  29.391941      0      0   7.2292         0\n",
       "755       2    14    1  28.000000      0      0  26.0000         2\n",
       "730       3   135    1  34.500000      0      0   6.4375         0\n",
       "278       3   221    0  22.000000      0      0   9.8375         2\n",
       "600       3   122    0  29.391941      1      0  14.4542         0\n",
       "..      ...   ...  ...        ...    ...    ...      ...       ...\n",
       "491       3   144    1  32.000000      0      0   7.5792         2\n",
       "125       3   179    1  16.000000      0      0   9.2167         2\n",
       "7         1   225    0  29.391941      1      0  52.0000         2\n",
       "562       3   117    1  29.391941      1      2  23.4500         2\n",
       "490       3   166    0  29.391941      0      0   7.2292         0\n",
       "\n",
       "[250 rows x 8 columns]"
      ]
     },
     "execution_count": 413,
     "metadata": {},
     "output_type": "execute_result"
    }
   ],
   "source": [
    "Xtest"
   ]
  },
  {
   "cell_type": "markdown",
   "metadata": {},
   "source": [
    "### Ladění hyperparameterů"
   ]
  },
  {
   "cell_type": "code",
   "execution_count": 414,
   "metadata": {},
   "outputs": [],
   "source": [
    "val_acc = []\n",
    "train_acc = []\n",
    "from sklearn.model_selection import ParameterGrid\n",
    "from sklearn.metrics import accuracy_score\n",
    "from sklearn.tree import DecisionTreeClassifier\n",
    "param_grid = ParameterGrid({\n",
    "    'criterion': ['entropy', 'gini'],\n",
    "    'max_depth': range(1, 31),\n",
    "    'random_state': [rd_seed],\n",
    "})\n",
    "\n",
    "for params in param_grid:\n",
    "    dt = DecisionTreeClassifier(max_depth=params['max_depth'],\n",
    "                                criterion=params['criterion'],\n",
    "                                random_state = params['random_state']\n",
    "                               )\n",
    "    dt.fit(Xtrain, ytrain)\n",
    "    train_acc.append(metrics.accuracy_score(ytrain, dt.predict(Xtrain)))\n",
    "    val_acc.append(metrics.accuracy_score(yval, dt.predict(Xval)))"
   ]
  },
  {
   "cell_type": "markdown",
   "metadata": {},
   "source": [
    "### Vizualizace rozhodnuti decision tree\n",
    "vsechny modely budu testovat pomoci cross validation"
   ]
  },
  {
   "cell_type": "code",
   "execution_count": 415,
   "metadata": {},
   "outputs": [
    {
     "data": {
      "text/plain": [
       "<matplotlib.legend.Legend at 0x7f3f49e83f10>"
      ]
     },
     "execution_count": 415,
     "metadata": {},
     "output_type": "execute_result"
    },
    {
     "data": {
      "image/png": "[encoded data removed]",
      "text/plain": [
       "<Figure size 1440x432 with 1 Axes>"
      ]
     },
     "metadata": {
      "needs_background": "light"
     },
     "output_type": "display_data"
    }
   ],
   "source": [
    "import matplotlib\n",
    "import matplotlib.pyplot as plt\n",
    "%matplotlib inline\n",
    "plt.figure(figsize=(20,6))\n",
    "plt.plot(train_acc,'or-') #o: body, r: barva, -: spojení bodů linkou\n",
    "plt.plot(val_acc,'ob-')\n",
    "plt.xlabel('hyperparametr index')\n",
    "plt.ylabel('accuracy')\n",
    "plt.legend(['train', 'validation'])"
   ]
  },
  {
   "cell_type": "code",
   "execution_count": 416,
   "metadata": {},
   "outputs": [
    {
     "name": "stdout",
     "output_type": "stream",
     "text": [
      "accuracy score (cross validation): 0.736694\n",
      "accuracy score (train): 0.774\n",
      "accuracy score (validation): 0.813830\n",
      "accuracy score (test): 0.764\n"
     ]
    }
   ],
   "source": [
    "from sklearn.model_selection import cross_val_score\n",
    "import sklearn.metrics as metrics\n",
    "%matplotlib inline\n",
    "best_params = param_grid[np.argmax(val_acc)]\n",
    "\n",
    "dt = DecisionTreeClassifier(**best_params)\n",
    "train_predict=[]\n",
    "test_predict=[]\n",
    "print('accuracy score (cross validation): {0:.6f}'.format(cross_val_score(dt , Xtrain , ytrain).mean()))\n",
    "models_name.append(\"Decision tree\")\n",
    "model_cross_val.append(cross_val_score(dt , Xtrain , ytrain).mean())\n",
    "dt.fit(Xtrain, ytrain)\n",
    "train_predict.append(metrics.accuracy_score(ytrain, dt.predict(Xtrain)))\n",
    "test_predict.append(metrics.accuracy_score(yval, dt.predict(Xval)))\n",
    "print('accuracy score (train): {0:.3f}'.format(metrics.accuracy_score(ytrain, dt.predict(Xtrain))))\n",
    "print('accuracy score (validation): {0:.6f}'.format(metrics.accuracy_score(yval, dt.predict(Xval))))\n",
    "\n",
    "print('accuracy score (test): {0:.3f}'.format(metrics.accuracy_score(ytest, dt.predict(Xtest))))\n",
    "models_test.append(metrics.accuracy_score(ytest, dt.predict(Xtest)))\n"
   ]
  },
  {
   "cell_type": "markdown",
   "metadata": {},
   "source": [
    "### Ada Boost\n",
    "Testujeme Ada Boost přesnost klasifikátoru se 100 odhady"
   ]
  },
  {
   "cell_type": "code",
   "execution_count": 417,
   "metadata": {},
   "outputs": [
    {
     "name": "stdout",
     "output_type": "stream",
     "text": [
      "accuracy score (cross validation): 0.731258\n",
      "accuracy score (train): 0.827402\n",
      "accuracy score (validation): 0.765957\n",
      "accuracy score (test): 0.760000\n"
     ]
    }
   ],
   "source": [
    "from sklearn.ensemble import AdaBoostClassifier\n",
    "boost = AdaBoostClassifier(n_estimators=100, random_state=rd_seed)\n",
    "print('accuracy score (cross validation): {0:.6f}'.format(cross_val_score(boost , Xtrain , ytrain ).mean()))\n",
    "models_name.append(\"Ada boost\")\n",
    "model_cross_val.append(cross_val_score(boost , Xtrain , ytrain).mean())\n",
    "boost.fit(Xtrain , ytrain)\n",
    "print('accuracy score (train): {0:.6f}'.format(metrics.accuracy_score(ytrain, boost.predict(Xtrain))))\n",
    "print('accuracy score (validation): {0:.6f}'.format(metrics.accuracy_score(yval, boost.predict(Xval))))\n",
    "print('accuracy score (test): {0:.6f}'.format(metrics.accuracy_score(ytest, boost.predict(Xtest))))\n",
    "models_test.append(metrics.accuracy_score(ytest, boost.predict(Xtest)))\n"
   ]
  },
  {
   "cell_type": "markdown",
   "metadata": {},
   "source": [
    "### Support vector machines¶\n",
    "\n",
    "Vyzkoušime výchozí přesnost klasifikátoru SVM"
   ]
  },
  {
   "cell_type": "code",
   "execution_count": 418,
   "metadata": {},
   "outputs": [
    {
     "name": "stdout",
     "output_type": "stream",
     "text": [
      "accuracy score (cross validation): 0.637042\n",
      "accuracy score (train): 0.645907\n",
      "accuracy score (validation): 0.648936\n",
      "accuracy score (test): 0.624000\n"
     ]
    }
   ],
   "source": [
    "from sklearn import svm\n",
    "svm_model = svm.SVC()\n",
    "print('accuracy score (cross validation): {0:.6f}'.format(cross_val_score(svm_model , Xtrain , ytrain ).mean()))\n",
    "models_name.append(\"SVM\")\n",
    "model_cross_val.append(cross_val_score(svm_model , Xtrain , ytrain).mean())\n",
    "svm_model.fit(Xtrain , ytrain)\n",
    "print('accuracy score (train): {0:.6f}'.format(metrics.accuracy_score(ytrain, svm_model.predict(Xtrain))))\n",
    "print('accuracy score (validation): {0:.6f}'.format(metrics.accuracy_score(yval, svm_model.predict(Xval))))\n",
    "print('accuracy score (test): {0:.6f}'.format(metrics.accuracy_score(ytest, svm_model.predict(Xtest))))\n",
    "models_test.append(metrics.accuracy_score(ytest, svm_model.predict(Xtest)))"
   ]
  },
  {
   "cell_type": "markdown",
   "metadata": {},
   "source": [
    "### K-neighbors classifier\n",
    "\n",
    "Otestujeme přesnost klasifikátoru K-sousedů s 10 sousedy\n"
   ]
  },
  {
   "cell_type": "code",
   "execution_count": 419,
   "metadata": {},
   "outputs": [
    {
     "name": "stdout",
     "output_type": "stream",
     "text": [
      "accuracy score (cross validation): 0.660161\n",
      "accuracy score (train): 0.709964\n",
      "accuracy score (validation): 0.664894\n",
      "accuracy score (test): 0.656000\n"
     ]
    }
   ],
   "source": [
    "from sklearn.neighbors import KNeighborsClassifier\n",
    "kn = KNeighborsClassifier(n_neighbors = 10)\n",
    "print('accuracy score (cross validation): {0:.6f}'.format(cross_val_score(kn, Xtrain, ytrain ).mean()))\n",
    "models_name.append(\"K-neighbors\")\n",
    "model_cross_val.append(cross_val_score(kn , Xtrain , ytrain).mean())\n",
    "kn.fit(Xtrain , ytrain)\n",
    "print('accuracy score (train): {0:.6f}'.format(metrics.accuracy_score(ytrain, kn.predict(Xtrain))))\n",
    "print('accuracy score (validation): {0:.6f}'.format(metrics.accuracy_score(yval, kn.predict(Xval))))\n",
    "print('accuracy score (test): {0:.6f}'.format(metrics.accuracy_score(ytest, kn.predict(Xtest))))\n",
    "models_test.append(metrics.accuracy_score(ytest, kn.predict(Xtest)))"
   ]
  },
  {
   "cell_type": "markdown",
   "metadata": {},
   "source": [
    "### Gaussian Naive Bayes\n",
    "\n",
    "Otestujte výchozí přesnost klasifikátoru GaussianNB"
   ]
  },
  {
   "cell_type": "code",
   "execution_count": 420,
   "metadata": {},
   "outputs": [
    {
     "name": "stdout",
     "output_type": "stream",
     "text": [
      "accuracy score (cross validation): 0.765092\n",
      "accuracy score (train): 0.763345\n",
      "accuracy score (validation): 0.792553\n",
      "accuracy score (test): 0.780000\n"
     ]
    }
   ],
   "source": [
    "from sklearn.naive_bayes import GaussianNB\n",
    "gnb = GaussianNB()\n",
    "print('accuracy score (cross validation): {0:.6f}'.format(cross_val_score(gnb , Xtrain , ytrain).mean()))\n",
    "models_name.append(\"Gaussian Naive Bayes\")\n",
    "model_cross_val.append(cross_val_score(gnb , Xtrain , ytrain).mean())\n",
    "gnb.fit(Xtrain , ytrain)\n",
    "print('accuracy score (train): {0:.6f}'.format(metrics.accuracy_score(ytrain, gnb.predict(Xtrain))))\n",
    "print('accuracy score (validation): {0:.6f}'.format(metrics.accuracy_score(yval, gnb.predict(Xval))))\n",
    "print('accuracy score (test): {0:.6f}'.format(metrics.accuracy_score(ytest, gnb.predict(Xtest))))\n",
    "models_test.append(metrics.accuracy_score(ytest, gnb.predict(Xtest)))"
   ]
  },
  {
   "cell_type": "markdown",
   "metadata": {},
   "source": [
    "### Random forest\n",
    "Test default random forest classifier accuracy\n",
    "Otestujte výchozí přesnost klasifikátoru random forest"
   ]
  },
  {
   "cell_type": "code",
   "execution_count": 421,
   "metadata": {},
   "outputs": [
    {
     "name": "stdout",
     "output_type": "stream",
     "text": [
      "accuracy score (cross validation): 0.758091\n",
      "accuracy score (train): 1.000000\n",
      "accuracy score (validation): 0.803191\n",
      "accuracy score (test): 0.728000\n"
     ]
    }
   ],
   "source": [
    "from sklearn.ensemble import RandomForestClassifier\n",
    "forest = RandomForestClassifier()\n",
    "print('accuracy score (cross validation): {0:.6f}'.format(cross_val_score(forest , Xtrain , ytrain ).mean()))\n",
    "models_name.append(\"Random forest\")\n",
    "model_cross_val.append(cross_val_score(forest , Xtrain , ytrain).mean())\n",
    "forest.fit(Xtrain , ytrain)\n",
    "print('accuracy score (train): {0:.6f}'.format(metrics.accuracy_score(ytrain, forest.predict(Xtrain))))\n",
    "print('accuracy score (validation): {0:.6f}'.format(metrics.accuracy_score(yval, forest.predict(Xval))))\n",
    "print('accuracy score (test): {0:.6f}'.format(metrics.accuracy_score(ytest, forest.predict(Xtest))))\n",
    "models_test.append(metrics.accuracy_score(ytest, forest.predict(Xtest)))"
   ]
  },
  {
   "cell_type": "markdown",
   "metadata": {},
   "source": [
    "### Nejlepsi model\n",
    "\n",
    "Na základě přesnosti cross validation a přesnosti modelu na testovacích datech je nejlepším modelem klasifikátor Random Forest, nyní vyladíme hyper parametry pro model podle mřížky parametrů.\n"
   ]
  },
  {
   "cell_type": "code",
   "execution_count": 422,
   "metadata": {},
   "outputs": [
    {
     "data": {
      "text/html": [
       "<div>\n",
       "<style scoped>\n",
       "    .dataframe tbody tr th:only-of-type {\n",
       "        vertical-align: middle;\n",
       "    }\n",
       "\n",
       "    .dataframe tbody tr th {\n",
       "        vertical-align: top;\n",
       "    }\n",
       "\n",
       "    .dataframe thead th {\n",
       "        text-align: right;\n",
       "    }\n",
       "</style>\n",
       "<table border=\"1\" class=\"dataframe\">\n",
       "  <thead>\n",
       "    <tr style=\"text-align: right;\">\n",
       "      <th></th>\n",
       "      <th>Name</th>\n",
       "      <th>Cross val accuracy</th>\n",
       "      <th>Test accuracy</th>\n",
       "    </tr>\n",
       "  </thead>\n",
       "  <tbody>\n",
       "    <tr>\n",
       "      <th>0</th>\n",
       "      <td>Decision tree</td>\n",
       "      <td>0.736694</td>\n",
       "      <td>0.764</td>\n",
       "    </tr>\n",
       "    <tr>\n",
       "      <th>1</th>\n",
       "      <td>Ada boost</td>\n",
       "      <td>0.731258</td>\n",
       "      <td>0.760</td>\n",
       "    </tr>\n",
       "    <tr>\n",
       "      <th>2</th>\n",
       "      <td>SVM</td>\n",
       "      <td>0.637042</td>\n",
       "      <td>0.624</td>\n",
       "    </tr>\n",
       "    <tr>\n",
       "      <th>3</th>\n",
       "      <td>K-neighbors</td>\n",
       "      <td>0.660161</td>\n",
       "      <td>0.656</td>\n",
       "    </tr>\n",
       "    <tr>\n",
       "      <th>4</th>\n",
       "      <td>Gaussian Naive Bayes</td>\n",
       "      <td>0.765092</td>\n",
       "      <td>0.780</td>\n",
       "    </tr>\n",
       "    <tr>\n",
       "      <th>5</th>\n",
       "      <td>Random forest</td>\n",
       "      <td>0.766972</td>\n",
       "      <td>0.728</td>\n",
       "    </tr>\n",
       "  </tbody>\n",
       "</table>\n",
       "</div>"
      ],
      "text/plain": [
       "                   Name  Cross val accuracy  Test accuracy\n",
       "0         Decision tree            0.736694          0.764\n",
       "1             Ada boost            0.731258          0.760\n",
       "2                   SVM            0.637042          0.624\n",
       "3           K-neighbors            0.660161          0.656\n",
       "4  Gaussian Naive Bayes            0.765092          0.780\n",
       "5         Random forest            0.766972          0.728"
      ]
     },
     "execution_count": 422,
     "metadata": {},
     "output_type": "execute_result"
    }
   ],
   "source": [
    "all_models = pd.DataFrame(\n",
    "{\n",
    "  \"Name\":   models_name,\n",
    "  \"Cross val accuracy\": model_cross_val, \n",
    "  \"Test accuracy\": models_test\n",
    "        \n",
    "})\n",
    "\n",
    "all_models"
   ]
  },
  {
   "cell_type": "code",
   "execution_count": 423,
   "metadata": {},
   "outputs": [
    {
     "name": "stdout",
     "output_type": "stream",
     "text": [
      "accuracy score (cross validation): 0.758012\n",
      "accuracy score (train): 0.967972\n",
      "accuracy score (validation): 0.803191\n",
      "accuracy score (test): 0.748000\n"
     ]
    }
   ],
   "source": [
    "param_grid = ParameterGrid({\n",
    "    'n_estimators': range(50, 201 , 50),\n",
    "    'max_depth': range(1,31 , 1),\n",
    "    'criterion': ['entropy', 'gini'],\n",
    "    'max_features':['sqrt' , 'log2']\n",
    "})\n",
    "\n",
    "val_acc = []\n",
    "\n",
    "for params in param_grid:\n",
    "    forest = RandomForestClassifier( n_estimators = params['n_estimators'] ,\n",
    "                                    max_depth = params['max_depth'] ,\n",
    "                                    criterion = params['criterion']  \n",
    "                                    , max_features = params['max_features'])\n",
    "    \n",
    "    val_acc.append(cross_val_score(forest , Xtrain , ytrain).mean())\n",
    "best_params = param_grid[np.argmax(val_acc)]\n",
    "forest = RandomForestClassifier(**best_params)\n",
    "print('accuracy score (cross validation): {0:.6f}'.format(cross_val_score(forest , Xtrain , ytrain).mean()))\n",
    "forest.fit(Xtrain , ytrain)\n",
    "print('accuracy score (train): {0:.6f}'.format(metrics.accuracy_score(ytrain, forest.predict(Xtrain))))\n",
    "print('accuracy score (validation): {0:.6f}'.format(metrics.accuracy_score(yval, forest.predict(Xval))))\n",
    "print('accuracy score (test): {0:.6f}'.format(metrics.accuracy_score(ytest, forest.predict(Xtest))))"
   ]
  },
  {
   "cell_type": "markdown",
   "metadata": {},
   "source": [
    "### Zpracovani evaluation dat\n",
    "odstranila jsem stejne sloupce jako i v trenovacich.\n",
    "Pak vyplnila jsen NaN hodnoty pomoci mean trenovacich dat."
   ]
  },
  {
   "cell_type": "code",
   "execution_count": 424,
   "metadata": {},
   "outputs": [
    {
     "name": "stdout",
     "output_type": "stream",
     "text": [
      "      pclass  name  sex   age  sibsp  parch  fare  embarked\n",
      "ID                                                         \n",
      "1000       2   144    0  24.0      2      1  27.0         2\n",
      "1001       2    59    0  25.0      1      1  30.0         2\n",
      "1002       2   109    1  38.0      1      0  21.0         2\n",
      "1003       3   192    0  19.0      1      0  16.1         2\n",
      "1004       2   137    0  60.0      1      0  26.0         2\n"
     ]
    }
   ],
   "source": [
    "evl = pd.read_csv('evaluation.csv')\n",
    "evl.index = evl.ID\n",
    "evl = evl.drop(columns = \"cabin\")\n",
    "evl = evl.drop(columns = \"home.dest\")\n",
    "evl = evl.drop(columns = \"ID\")\n",
    "evl = evl.drop(columns = \"ticket\")\n",
    "\n",
    "mean_fare = Xtrain['fare'].mean()\n",
    "evl['age'] = evl['age'].fillna(mean)\n",
    "evl['fare'] = evl['fare'].fillna(mean_fare)\n",
    "\n",
    "string_cols = evl.select_dtypes(['object']).columns\n",
    "evl[string_cols] = evl[string_cols].astype('category').apply(lambda x:x.cat.codes)\n",
    "\n",
    "print(evl.head())"
   ]
  },
  {
   "cell_type": "code",
   "execution_count": 425,
   "metadata": {},
   "outputs": [
    {
     "name": "stdout",
     "output_type": "stream",
     "text": [
      "       ID  survived\n",
      "0    1000         1\n",
      "1    1001         1\n",
      "2    1002         0\n",
      "3    1003         1\n",
      "4    1004         1\n",
      "..    ...       ...\n",
      "304  1304         1\n",
      "305  1305         1\n",
      "306  1306         0\n",
      "307  1307         1\n",
      "308  1308         0\n",
      "\n",
      "[309 rows x 2 columns]\n"
     ]
    }
   ],
   "source": [
    "from sklearn.ensemble import RandomForestRegressor\n",
    "\n",
    "forest = RandomForestClassifier(**best_params)\n",
    "forest.fit(Xtrain , ytrain)\n",
    "predict = forest.predict(evl)\n",
    "\n",
    "\n",
    "raw_data = {'ID': evl.index, \n",
    "    'survived': predict}\n",
    "df = pd.DataFrame(raw_data, columns = ['ID', 'survived'])\n",
    "\n",
    "print(df)\n",
    "df.to_csv(\"results.csv\",index=False)"
   ]
  }
 ],
 "metadata": {
  "kernelspec": {
   "display_name": "Python 3",
   "language": "python",
   "name": "python3"
  },
  "language_info": {
   "codemirror_mode": {
    "name": "ipython",
    "version": 3
   },
   "file_extension": ".py",
   "mimetype": "text/x-python",
   "name": "python",
   "nbconvert_exporter": "python",
   "pygments_lexer": "ipython3",
   "version": "3.8.5"
  }
 },
 "nbformat": 4,
 "nbformat_minor": 4
}
